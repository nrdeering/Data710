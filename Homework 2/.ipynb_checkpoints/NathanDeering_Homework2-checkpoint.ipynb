{
 "cells": [
  {
   "cell_type": "markdown",
   "id": "3d14e159-b805-4cab-b00a-483b35b51a5a",
   "metadata": {},
   "source": [
    "## Q1: Two Sample T-Test"
   ]
  },
  {
   "cell_type": "code",
   "execution_count": 2,
   "id": "7e0ff3cd-4dc2-44b4-9db5-ba26db49d91e",
   "metadata": {
    "tags": []
   },
   "outputs": [],
   "source": [
    "# Create numeric vectors from the data supplied\n",
    "A <- c(14,15,15,16,15,8,14,17,16,14,19,20,21,15,15,18,16,12,14,12)\n",
    "B <- c(15,17,14,17,13,9,10,19,19,14,17,22,23,17,13,16,14,18,25,13)"
   ]
  },
  {
   "cell_type": "code",
   "execution_count": 4,
   "id": "f28c4091-bde8-4571-bb62-1edb3a976b26",
   "metadata": {
    "tags": []
   },
   "outputs": [
    {
     "data": {
      "text/plain": [
       "\n",
       "\tWelch Two Sample t-test\n",
       "\n",
       "data:  A and B\n",
       "t = -0.84708, df = 34.445, p-value = 0.4028\n",
       "alternative hypothesis: true difference in means is not equal to 0\n",
       "95 percent confidence interval:\n",
       " -3.228079  1.328079\n",
       "sample estimates:\n",
       "mean of x mean of y \n",
       "    15.30     16.25 \n"
      ]
     },
     "metadata": {},
     "output_type": "display_data"
    }
   ],
   "source": [
    "t.test(A, B, alternative = \"two.sided\", mu = 0, paired = FALSE, var.equal = FALSE, conf.level = 0.95)"
   ]
  },
  {
   "cell_type": "markdown",
   "id": "10ca24f4-1f67-4adc-909b-5af2da78a98a",
   "metadata": {},
   "source": [
    "#### We fail to reject the null hypothesis. The means are not significantly different."
   ]
  },
  {
   "cell_type": "markdown",
   "id": "68ba81a2-c525-4145-809e-19ddef6bc644",
   "metadata": {
    "tags": []
   },
   "source": [
    "## Q2: Two Sample T-Test"
   ]
  },
  {
   "cell_type": "code",
   "execution_count": 20,
   "id": "33ab58d9-2752-4fef-b369-6e9c1b69652e",
   "metadata": {
    "tags": []
   },
   "outputs": [],
   "source": [
    "#Create a matrix from scratch without the \n",
    "Input =(\n",
    "\"Salary.Type High.Salary Medium.Salary Low.Salary \n",
    "State_A 25 45 10\n",
    "State_B 5 50 60\n",
    "State_C 50 30 25\n",
    "\")\n",
    "\n",
    "# convert the text string into a table with a header row of labels and a first column of row labels\n",
    "data_matrix = as.matrix(read.table(textConnection(Input),\n",
    "                              header=TRUE, \n",
    "                              row.names=1))"
   ]
  },
  {
   "cell_type": "code",
   "execution_count": 21,
   "id": "42445d81-163d-4550-b2f4-c0fa11c5240f",
   "metadata": {
    "tags": []
   },
   "outputs": [
    {
     "data": {
      "text/html": [
       "<table class=\"dataframe\">\n",
       "<caption>A matrix: 3 × 3 of type int</caption>\n",
       "<thead>\n",
       "\t<tr><th></th><th scope=col>High.Salary</th><th scope=col>Medium.Salary</th><th scope=col>Low.Salary</th></tr>\n",
       "</thead>\n",
       "<tbody>\n",
       "\t<tr><th scope=row>State_A</th><td>25</td><td>45</td><td>10</td></tr>\n",
       "\t<tr><th scope=row>State_B</th><td> 5</td><td>50</td><td>60</td></tr>\n",
       "\t<tr><th scope=row>State_C</th><td>50</td><td>30</td><td>25</td></tr>\n",
       "</tbody>\n",
       "</table>\n"
      ],
      "text/latex": [
       "A matrix: 3 × 3 of type int\n",
       "\\begin{tabular}{r|lll}\n",
       "  & High.Salary & Medium.Salary & Low.Salary\\\\\n",
       "\\hline\n",
       "\tState\\_A & 25 & 45 & 10\\\\\n",
       "\tState\\_B &  5 & 50 & 60\\\\\n",
       "\tState\\_C & 50 & 30 & 25\\\\\n",
       "\\end{tabular}\n"
      ],
      "text/markdown": [
       "\n",
       "A matrix: 3 × 3 of type int\n",
       "\n",
       "| <!--/--> | High.Salary | Medium.Salary | Low.Salary |\n",
       "|---|---|---|---|\n",
       "| State_A | 25 | 45 | 10 |\n",
       "| State_B |  5 | 50 | 60 |\n",
       "| State_C | 50 | 30 | 25 |\n",
       "\n"
      ],
      "text/plain": [
       "        High.Salary Medium.Salary Low.Salary\n",
       "State_A 25          45            10        \n",
       "State_B  5          50            60        \n",
       "State_C 50          30            25        "
      ]
     },
     "metadata": {},
     "output_type": "display_data"
    }
   ],
   "source": [
    "data_matrix"
   ]
  },
  {
   "cell_type": "code",
   "execution_count": 22,
   "id": "8cca3f12-bb2b-4326-93ee-0559067aa6c5",
   "metadata": {
    "tags": []
   },
   "outputs": [
    {
     "data": {
      "text/plain": [
       "\n",
       "\tPearson's Chi-squared test\n",
       "\n",
       "data:  data_matrix\n",
       "X-squared = 74.493, df = 4, p-value = 2.55e-15\n"
      ]
     },
     "metadata": {},
     "output_type": "display_data"
    }
   ],
   "source": [
    "chisq.test(data_matrix, correct=FALSE) "
   ]
  },
  {
   "cell_type": "markdown",
   "id": "920213d9-06a0-4bad-ae15-b55b9deb3773",
   "metadata": {},
   "source": [
    "#### Since the p-value is smaller than a confidence level of 95% (alpha=.05), we can reject the null hypothesis and say that the state is not independent of the salary level."
   ]
  },
  {
   "cell_type": "markdown",
   "id": "4cf93c7d-2018-4449-9d4e-4329f5f6a357",
   "metadata": {},
   "source": [
    "## Q3: Linear Regression & Polynomial Regression"
   ]
  },
  {
   "cell_type": "markdown",
   "id": "ef6861e7-bad1-430a-ab29-338f35a38919",
   "metadata": {},
   "source": [
    "#### Linear Regression Model"
   ]
  },
  {
   "cell_type": "code",
   "execution_count": 33,
   "id": "d3dc27a3-f63a-47b0-98bb-77f0e1b5d43d",
   "metadata": {
    "tags": []
   },
   "outputs": [
    {
     "name": "stderr",
     "output_type": "stream",
     "text": [
      "── \u001b[1mAttaching packages\u001b[22m ────────────────────────────────────── tidymodels 1.2.0 ──\n",
      "\n",
      "\u001b[32m✔\u001b[39m \u001b[34mbroom       \u001b[39m 1.0.6     \u001b[32m✔\u001b[39m \u001b[34mrsample     \u001b[39m 1.2.1\n",
      "\u001b[32m✔\u001b[39m \u001b[34mdials       \u001b[39m 1.3.0     \u001b[32m✔\u001b[39m \u001b[34mtune        \u001b[39m 1.2.1\n",
      "\u001b[32m✔\u001b[39m \u001b[34minfer       \u001b[39m 1.0.7     \u001b[32m✔\u001b[39m \u001b[34mworkflows   \u001b[39m 1.1.4\n",
      "\u001b[32m✔\u001b[39m \u001b[34mmodeldata   \u001b[39m 1.4.0     \u001b[32m✔\u001b[39m \u001b[34mworkflowsets\u001b[39m 1.1.0\n",
      "\u001b[32m✔\u001b[39m \u001b[34mparsnip     \u001b[39m 1.2.1     \u001b[32m✔\u001b[39m \u001b[34myardstick   \u001b[39m 1.3.1\n",
      "\u001b[32m✔\u001b[39m \u001b[34mrecipes     \u001b[39m 1.1.0     \n",
      "\n",
      "── \u001b[1mConflicts\u001b[22m ───────────────────────────────────────── tidymodels_conflicts() ──\n",
      "\u001b[31m✖\u001b[39m \u001b[34mscales\u001b[39m::\u001b[32mdiscard()\u001b[39m masks \u001b[34mpurrr\u001b[39m::discard()\n",
      "\u001b[31m✖\u001b[39m \u001b[34mdplyr\u001b[39m::\u001b[32mfilter()\u001b[39m   masks \u001b[34mstats\u001b[39m::filter()\n",
      "\u001b[31m✖\u001b[39m \u001b[34mrecipes\u001b[39m::\u001b[32mfixed()\u001b[39m  masks \u001b[34mstringr\u001b[39m::fixed()\n",
      "\u001b[31m✖\u001b[39m \u001b[34mdplyr\u001b[39m::\u001b[32mlag()\u001b[39m      masks \u001b[34mstats\u001b[39m::lag()\n",
      "\u001b[31m✖\u001b[39m \u001b[34myardstick\u001b[39m::\u001b[32mspec()\u001b[39m masks \u001b[34mreadr\u001b[39m::spec()\n",
      "\u001b[31m✖\u001b[39m \u001b[34mrecipes\u001b[39m::\u001b[32mstep()\u001b[39m   masks \u001b[34mstats\u001b[39m::step()\n",
      "\u001b[34m•\u001b[39m Use \u001b[32mtidymodels_prefer()\u001b[39m to resolve common conflicts.\n",
      "\n"
     ]
    }
   ],
   "source": [
    "library('tidyverse')\n",
    "library('tidymodels')\n",
    "\n",
    "theme_set(theme_grey(base_size = 14))\n",
    "options(repr.plot.height = 4, repr.plot.width = 6)"
   ]
  },
  {
   "cell_type": "code",
   "execution_count": 34,
   "id": "af6f3944-d8ff-467b-9edf-28bf6fa95fb5",
   "metadata": {
    "tags": []
   },
   "outputs": [
    {
     "data": {
      "text/html": [
       "<table class=\"dataframe\">\n",
       "<caption>A data.frame: 15 × 3</caption>\n",
       "<thead>\n",
       "\t<tr><th scope=col>i</th><th scope=col>Temperature</th><th scope=col>Yield</th></tr>\n",
       "\t<tr><th scope=col>&lt;int&gt;</th><th scope=col>&lt;int&gt;</th><th scope=col>&lt;dbl&gt;</th></tr>\n",
       "</thead>\n",
       "<tbody>\n",
       "\t<tr><td> 1</td><td> 50</td><td>3.3</td></tr>\n",
       "\t<tr><td> 2</td><td> 50</td><td>2.8</td></tr>\n",
       "\t<tr><td> 3</td><td> 50</td><td>2.9</td></tr>\n",
       "\t<tr><td> 4</td><td> 70</td><td>2.3</td></tr>\n",
       "\t<tr><td> 5</td><td> 70</td><td>2.6</td></tr>\n",
       "\t<tr><td> 6</td><td> 70</td><td>2.1</td></tr>\n",
       "\t<tr><td> 7</td><td> 80</td><td>2.5</td></tr>\n",
       "\t<tr><td> 8</td><td> 80</td><td>2.9</td></tr>\n",
       "\t<tr><td> 9</td><td> 80</td><td>2.4</td></tr>\n",
       "\t<tr><td>10</td><td> 90</td><td>3.0</td></tr>\n",
       "\t<tr><td>11</td><td> 90</td><td>3.1</td></tr>\n",
       "\t<tr><td>12</td><td> 90</td><td>2.8</td></tr>\n",
       "\t<tr><td>13</td><td>100</td><td>3.3</td></tr>\n",
       "\t<tr><td>14</td><td>100</td><td>3.5</td></tr>\n",
       "\t<tr><td>15</td><td>100</td><td>3.0</td></tr>\n",
       "</tbody>\n",
       "</table>\n"
      ],
      "text/latex": [
       "A data.frame: 15 × 3\n",
       "\\begin{tabular}{lll}\n",
       " i & Temperature & Yield\\\\\n",
       " <int> & <int> & <dbl>\\\\\n",
       "\\hline\n",
       "\t  1 &  50 & 3.3\\\\\n",
       "\t  2 &  50 & 2.8\\\\\n",
       "\t  3 &  50 & 2.9\\\\\n",
       "\t  4 &  70 & 2.3\\\\\n",
       "\t  5 &  70 & 2.6\\\\\n",
       "\t  6 &  70 & 2.1\\\\\n",
       "\t  7 &  80 & 2.5\\\\\n",
       "\t  8 &  80 & 2.9\\\\\n",
       "\t  9 &  80 & 2.4\\\\\n",
       "\t 10 &  90 & 3.0\\\\\n",
       "\t 11 &  90 & 3.1\\\\\n",
       "\t 12 &  90 & 2.8\\\\\n",
       "\t 13 & 100 & 3.3\\\\\n",
       "\t 14 & 100 & 3.5\\\\\n",
       "\t 15 & 100 & 3.0\\\\\n",
       "\\end{tabular}\n"
      ],
      "text/markdown": [
       "\n",
       "A data.frame: 15 × 3\n",
       "\n",
       "| i &lt;int&gt; | Temperature &lt;int&gt; | Yield &lt;dbl&gt; |\n",
       "|---|---|---|\n",
       "|  1 |  50 | 3.3 |\n",
       "|  2 |  50 | 2.8 |\n",
       "|  3 |  50 | 2.9 |\n",
       "|  4 |  70 | 2.3 |\n",
       "|  5 |  70 | 2.6 |\n",
       "|  6 |  70 | 2.1 |\n",
       "|  7 |  80 | 2.5 |\n",
       "|  8 |  80 | 2.9 |\n",
       "|  9 |  80 | 2.4 |\n",
       "| 10 |  90 | 3.0 |\n",
       "| 11 |  90 | 3.1 |\n",
       "| 12 |  90 | 2.8 |\n",
       "| 13 | 100 | 3.3 |\n",
       "| 14 | 100 | 3.5 |\n",
       "| 15 | 100 | 3.0 |\n",
       "\n"
      ],
      "text/plain": [
       "   i  Temperature Yield\n",
       "1   1  50         3.3  \n",
       "2   2  50         2.8  \n",
       "3   3  50         2.9  \n",
       "4   4  70         2.3  \n",
       "5   5  70         2.6  \n",
       "6   6  70         2.1  \n",
       "7   7  80         2.5  \n",
       "8   8  80         2.9  \n",
       "9   9  80         2.4  \n",
       "10 10  90         3.0  \n",
       "11 11  90         3.1  \n",
       "12 12  90         2.8  \n",
       "13 13 100         3.3  \n",
       "14 14 100         3.5  \n",
       "15 15 100         3.0  "
      ]
     },
     "metadata": {},
     "output_type": "display_data"
    }
   ],
   "source": [
    "#load the data\n",
    "data = read.csv(\"linear_reg_data.csv\")\n",
    "data"
   ]
  },
  {
   "cell_type": "code",
   "execution_count": 37,
   "id": "c5fc3167-b5f1-4717-9f4b-d65d3846fdfc",
   "metadata": {
    "tags": []
   },
   "outputs": [
    {
     "data": {
      "image/png": "[encoded data removed]",
      "text/plain": [
       "plot without title"
      ]
     },
     "metadata": {
      "image/png": {
       "height": 240,
       "width": 360
      }
     },
     "output_type": "display_data"
    }
   ],
   "source": [
    "ggplot(data, aes(x = Temperature, y = Yield)) +\n",
    "    geom_point()"
   ]
  },
  {
   "cell_type": "code",
   "execution_count": 38,
   "id": "d09ce691-1a03-452a-ad2e-5876932538ce",
   "metadata": {
    "tags": []
   },
   "outputs": [
    {
     "data": {
      "text/html": [
       "<table class=\"dataframe\">\n",
       "<caption>A tibble: 2 × 5</caption>\n",
       "<thead>\n",
       "\t<tr><th scope=col>term</th><th scope=col>estimate</th><th scope=col>std.error</th><th scope=col>statistic</th><th scope=col>p.value</th></tr>\n",
       "\t<tr><th scope=col>&lt;chr&gt;</th><th scope=col>&lt;dbl&gt;</th><th scope=col>&lt;dbl&gt;</th><th scope=col>&lt;dbl&gt;</th><th scope=col>&lt;dbl&gt;</th></tr>\n",
       "</thead>\n",
       "<tbody>\n",
       "\t<tr><td>(Intercept)</td><td>2.306306306</td><td>0.469075251</td><td>4.916709</td><td>0.0002816012</td></tr>\n",
       "\t<tr><td>Temperature</td><td>0.006756757</td><td>0.005872624</td><td>1.150552</td><td>0.2706412680</td></tr>\n",
       "</tbody>\n",
       "</table>\n"
      ],
      "text/latex": [
       "A tibble: 2 × 5\n",
       "\\begin{tabular}{lllll}\n",
       " term & estimate & std.error & statistic & p.value\\\\\n",
       " <chr> & <dbl> & <dbl> & <dbl> & <dbl>\\\\\n",
       "\\hline\n",
       "\t (Intercept) & 2.306306306 & 0.469075251 & 4.916709 & 0.0002816012\\\\\n",
       "\t Temperature & 0.006756757 & 0.005872624 & 1.150552 & 0.2706412680\\\\\n",
       "\\end{tabular}\n"
      ],
      "text/markdown": [
       "\n",
       "A tibble: 2 × 5\n",
       "\n",
       "| term &lt;chr&gt; | estimate &lt;dbl&gt; | std.error &lt;dbl&gt; | statistic &lt;dbl&gt; | p.value &lt;dbl&gt; |\n",
       "|---|---|---|---|---|\n",
       "| (Intercept) | 2.306306306 | 0.469075251 | 4.916709 | 0.0002816012 |\n",
       "| Temperature | 0.006756757 | 0.005872624 | 1.150552 | 0.2706412680 |\n",
       "\n"
      ],
      "text/plain": [
       "  term        estimate    std.error   statistic p.value     \n",
       "1 (Intercept) 2.306306306 0.469075251 4.916709  0.0002816012\n",
       "2 Temperature 0.006756757 0.005872624 1.150552  0.2706412680"
      ]
     },
     "metadata": {},
     "output_type": "display_data"
    }
   ],
   "source": [
    "# fill in the formula below\n",
    "mod = linear_reg() |> set_engine('lm')\n",
    "\n",
    "mod_fit = mod |> fit(Yield ~ Temperature, data = data)\n",
    "\n",
    "tidy(mod_fit)"
   ]
  },
  {
   "cell_type": "code",
   "execution_count": 57,
   "id": "c2641c19-323a-4573-9915-fbd04a4a6597",
   "metadata": {
    "tags": []
   },
   "outputs": [
    {
     "data": {
      "text/html": [
       "<table class=\"dataframe\">\n",
       "<caption>A tibble: 6 × 1</caption>\n",
       "<thead>\n",
       "\t<tr><th scope=col>.pred</th></tr>\n",
       "\t<tr><th scope=col>&lt;dbl&gt;</th></tr>\n",
       "</thead>\n",
       "<tbody>\n",
       "\t<tr><td>2.644144</td></tr>\n",
       "\t<tr><td>2.644144</td></tr>\n",
       "\t<tr><td>2.644144</td></tr>\n",
       "\t<tr><td>2.779279</td></tr>\n",
       "\t<tr><td>2.779279</td></tr>\n",
       "\t<tr><td>2.779279</td></tr>\n",
       "</tbody>\n",
       "</table>\n"
      ],
      "text/latex": [
       "A tibble: 6 × 1\n",
       "\\begin{tabular}{l}\n",
       " .pred\\\\\n",
       " <dbl>\\\\\n",
       "\\hline\n",
       "\t 2.644144\\\\\n",
       "\t 2.644144\\\\\n",
       "\t 2.644144\\\\\n",
       "\t 2.779279\\\\\n",
       "\t 2.779279\\\\\n",
       "\t 2.779279\\\\\n",
       "\\end{tabular}\n"
      ],
      "text/markdown": [
       "\n",
       "A tibble: 6 × 1\n",
       "\n",
       "| .pred &lt;dbl&gt; |\n",
       "|---|\n",
       "| 2.644144 |\n",
       "| 2.644144 |\n",
       "| 2.644144 |\n",
       "| 2.779279 |\n",
       "| 2.779279 |\n",
       "| 2.779279 |\n",
       "\n"
      ],
      "text/plain": [
       "  .pred   \n",
       "1 2.644144\n",
       "2 2.644144\n",
       "3 2.644144\n",
       "4 2.779279\n",
       "5 2.779279\n",
       "6 2.779279"
      ]
     },
     "metadata": {},
     "output_type": "display_data"
    }
   ],
   "source": [
    "# The predict function takes a table with predictors and predicts outcomes given our model \n",
    " \n",
    "predict(mod_fit, new_data = data) |> head()"
   ]
  },
  {
   "cell_type": "code",
   "execution_count": 58,
   "id": "f736f869-9508-40c4-bf11-1581b08bbf6b",
   "metadata": {
    "tags": []
   },
   "outputs": [
    {
     "data": {
      "text/html": [
       "<table class=\"dataframe\">\n",
       "<caption>A tibble: 6 × 5</caption>\n",
       "<thead>\n",
       "\t<tr><th scope=col>.pred</th><th scope=col>.resid</th><th scope=col>i</th><th scope=col>Temperature</th><th scope=col>Yield</th></tr>\n",
       "\t<tr><th scope=col>&lt;dbl&gt;</th><th scope=col>&lt;dbl&gt;</th><th scope=col>&lt;int&gt;</th><th scope=col>&lt;int&gt;</th><th scope=col>&lt;dbl&gt;</th></tr>\n",
       "</thead>\n",
       "<tbody>\n",
       "\t<tr><td>2.644144</td><td> 0.6558559</td><td>1</td><td>50</td><td>3.3</td></tr>\n",
       "\t<tr><td>2.644144</td><td> 0.1558559</td><td>2</td><td>50</td><td>2.8</td></tr>\n",
       "\t<tr><td>2.644144</td><td> 0.2558559</td><td>3</td><td>50</td><td>2.9</td></tr>\n",
       "\t<tr><td>2.779279</td><td>-0.4792793</td><td>4</td><td>70</td><td>2.3</td></tr>\n",
       "\t<tr><td>2.779279</td><td>-0.1792793</td><td>5</td><td>70</td><td>2.6</td></tr>\n",
       "\t<tr><td>2.779279</td><td>-0.6792793</td><td>6</td><td>70</td><td>2.1</td></tr>\n",
       "</tbody>\n",
       "</table>\n"
      ],
      "text/latex": [
       "A tibble: 6 × 5\n",
       "\\begin{tabular}{lllll}\n",
       " .pred & .resid & i & Temperature & Yield\\\\\n",
       " <dbl> & <dbl> & <int> & <int> & <dbl>\\\\\n",
       "\\hline\n",
       "\t 2.644144 &  0.6558559 & 1 & 50 & 3.3\\\\\n",
       "\t 2.644144 &  0.1558559 & 2 & 50 & 2.8\\\\\n",
       "\t 2.644144 &  0.2558559 & 3 & 50 & 2.9\\\\\n",
       "\t 2.779279 & -0.4792793 & 4 & 70 & 2.3\\\\\n",
       "\t 2.779279 & -0.1792793 & 5 & 70 & 2.6\\\\\n",
       "\t 2.779279 & -0.6792793 & 6 & 70 & 2.1\\\\\n",
       "\\end{tabular}\n"
      ],
      "text/markdown": [
       "\n",
       "A tibble: 6 × 5\n",
       "\n",
       "| .pred &lt;dbl&gt; | .resid &lt;dbl&gt; | i &lt;int&gt; | Temperature &lt;int&gt; | Yield &lt;dbl&gt; |\n",
       "|---|---|---|---|---|\n",
       "| 2.644144 |  0.6558559 | 1 | 50 | 3.3 |\n",
       "| 2.644144 |  0.1558559 | 2 | 50 | 2.8 |\n",
       "| 2.644144 |  0.2558559 | 3 | 50 | 2.9 |\n",
       "| 2.779279 | -0.4792793 | 4 | 70 | 2.3 |\n",
       "| 2.779279 | -0.1792793 | 5 | 70 | 2.6 |\n",
       "| 2.779279 | -0.6792793 | 6 | 70 | 2.1 |\n",
       "\n"
      ],
      "text/plain": [
       "  .pred    .resid     i Temperature Yield\n",
       "1 2.644144  0.6558559 1 50          3.3  \n",
       "2 2.644144  0.1558559 2 50          2.8  \n",
       "3 2.644144  0.2558559 3 50          2.9  \n",
       "4 2.779279 -0.4792793 4 70          2.3  \n",
       "5 2.779279 -0.1792793 5 70          2.6  \n",
       "6 2.779279 -0.6792793 6 70          2.1  "
      ]
     },
     "metadata": {},
     "output_type": "display_data"
    }
   ],
   "source": [
    "data2 = augment(mod_fit, data)\n",
    "\n",
    "data2 |> head()"
   ]
  },
  {
   "cell_type": "code",
   "execution_count": 59,
   "id": "324c20b8-0890-4f6b-9105-29c9f17860cd",
   "metadata": {
    "tags": []
   },
   "outputs": [
    {
     "data": {
      "image/png": "[encoded data removed]",
      "text/plain": [
       "plot without title"
      ]
     },
     "metadata": {
      "image/png": {
       "height": 240,
       "width": 360
      }
     },
     "output_type": "display_data"
    }
   ],
   "source": [
    "ggplot(data2) +\n",
    "    geom_point(aes(x = Temperature, y = Yield)) + \n",
    "    geom_line(aes(x = Temperature, y = .pred), color = 'steelblue', linewidth = 1.2) +\n",
    "    geom_segment(aes(x = Temperature, xend = Temperature, y = .pred, yend = Yield), \n",
    "                 color = 'firebrick',\n",
    "                 alpha = 0.25)"
   ]
  },
  {
   "cell_type": "markdown",
   "id": "ef2e8356-9a4e-4727-bcd7-e5b73eea6869",
   "metadata": {},
   "source": [
    "#### Polynomial Model\n",
    "Wasn't as well versed in this part of the question, so I followed this article to obtain my polynomial results: https://www.statology.org/polynomial-regression-r/"
   ]
  },
  {
   "cell_type": "code",
   "execution_count": 53,
   "id": "5be6c57b-def6-4777-9701-eb8f6a0b3fd3",
   "metadata": {
    "tags": []
   },
   "outputs": [
    {
     "data": {
      "text/html": [
       "<style>\n",
       ".list-inline {list-style: none; margin:0; padding: 0}\n",
       ".list-inline>li {display: inline-block}\n",
       ".list-inline>li:not(:last-child)::after {content: \"\\00b7\"; padding: 0 .5ex}\n",
       "</style>\n",
       "<ol class=list-inline><li>0.219816756905256</li><li>0.0818814156462271</li><li>0.0802824893984368</li><li>0.0956249999999999</li></ol>\n"
      ],
      "text/latex": [
       "\\begin{enumerate*}\n",
       "\\item 0.219816756905256\n",
       "\\item 0.0818814156462271\n",
       "\\item 0.0802824893984368\n",
       "\\item 0.0956249999999999\n",
       "\\end{enumerate*}\n"
      ],
      "text/markdown": [
       "1. 0.219816756905256\n",
       "2. 0.0818814156462271\n",
       "3. 0.0802824893984368\n",
       "4. 0.0956249999999999\n",
       "\n",
       "\n"
      ],
      "text/plain": [
       "[1] 0.21981676 0.08188142 0.08028249 0.09562500"
      ]
     },
     "metadata": {},
     "output_type": "display_data"
    }
   ],
   "source": [
    "#randomly shuffle data\n",
    "data.shuffled <- data[sample(nrow(data)),]\n",
    "\n",
    "#define number of folds to use for k-fold cross-validation\n",
    "K <- 10 \n",
    "\n",
    "#define degree of polynomials to fit\n",
    "degree <- 4\n",
    "\n",
    "#create k equal-sized folds\n",
    "folds <- cut(seq(1,nrow(data.shuffled)),breaks=K,labels=FALSE)\n",
    "\n",
    "#create object to hold MSE's of models\n",
    "mse = matrix(data=NA,nrow=K,ncol=degree)\n",
    "\n",
    "#Perform K-fold cross validation\n",
    "for(i in 1:K){\n",
    "    \n",
    "    #define training and testing data\n",
    "    testIndexes <- which(folds==i,arr.ind=TRUE)\n",
    "    testData <- data.shuffled[testIndexes, ]\n",
    "    trainData <- data.shuffled[-testIndexes, ]\n",
    "    \n",
    "    #use k-fold cv to evaluate models\n",
    "    for (j in 1:degree){\n",
    "        fit.train = lm(Yield ~ poly(Temperature,j), data=trainData)\n",
    "        fit.test = predict(fit.train, newdata=testData)\n",
    "        mse[i,j] = mean((fit.test-testData$Yield)^2) \n",
    "    }\n",
    "}\n",
    "\n",
    "#find MSE for each degree \n",
    "colMeans(mse)"
   ]
  },
  {
   "cell_type": "code",
   "execution_count": 55,
   "id": "b735817f-fcb2-45fd-aac3-e907c43b35d6",
   "metadata": {
    "tags": []
   },
   "outputs": [
    {
     "data": {
      "text/plain": [
       "\n",
       "Call:\n",
       "lm(formula = Yield ~ poly(Temperature, 3, raw = T), data = data)\n",
       "\n",
       "Residuals:\n",
       "     Min       1Q   Median       3Q      Max \n",
       "-0.26541 -0.18255 -0.03648  0.18160  0.30629 \n",
       "\n",
       "Coefficients:\n",
       "                                 Estimate Std. Error t value Pr(>|t|)  \n",
       "(Intercept)                     2.105e+01  8.222e+00   2.560   0.0265 *\n",
       "poly(Temperature, 3, raw = T)1 -7.143e-01  3.500e-01  -2.041   0.0660 .\n",
       "poly(Temperature, 3, raw = T)2  8.766e-03  4.785e-03   1.832   0.0941 .\n",
       "poly(Temperature, 3, raw = T)3 -3.401e-05  2.114e-05  -1.609   0.1359  \n",
       "---\n",
       "Signif. codes:  0 ‘***’ 0.001 ‘**’ 0.01 ‘*’ 0.05 ‘.’ 0.1 ‘ ’ 1\n",
       "\n",
       "Residual standard error: 0.2297 on 11 degrees of freedom\n",
       "Multiple R-squared:  0.7355,\tAdjusted R-squared:  0.6633 \n",
       "F-statistic: 10.19 on 3 and 11 DF,  p-value: 0.001656\n"
      ]
     },
     "metadata": {},
     "output_type": "display_data"
    }
   ],
   "source": [
    "#fit best model\n",
    "best = lm(Yield ~ poly(Temperature,3, raw=T), data=data)\n",
    "\n",
    "#view summary of best model\n",
    "summary(best)"
   ]
  },
  {
   "cell_type": "code",
   "execution_count": 56,
   "id": "64b831b7-0106-4684-9995-58ab6df2605b",
   "metadata": {
    "tags": []
   },
   "outputs": [
    {
     "name": "stderr",
     "output_type": "stream",
     "text": [
      "Warning message:\n",
      "“\u001b[1m\u001b[22mUsing `size` aesthetic for lines was deprecated in ggplot2 3.4.0.\n",
      "\u001b[36mℹ\u001b[39m Please use `linewidth` instead.”\n"
     ]
    },
    {
     "data": {
      "image/png": "[encoded data removed]",
      "text/plain": [
       "plot without title"
      ]
     },
     "metadata": {
      "image/png": {
       "height": 240,
       "width": 360
      }
     },
     "output_type": "display_data"
    }
   ],
   "source": [
    "ggplot(data, aes(x=Temperature, y=Yield)) + \n",
    "          geom_point() +\n",
    "          stat_smooth(method='lm', formula = y ~ poly(x,2), size = 1) + \n",
    "          xlab('Temperature') +\n",
    "          ylab('Yield')"
   ]
  },
  {
   "cell_type": "code",
   "execution_count": null,
   "id": "4774f54e-3b0f-4efa-af08-7628eb4e4110",
   "metadata": {},
   "outputs": [],
   "source": []
  }
 ],
 "metadata": {
  "kernelspec": {
   "display_name": ".conda-data730:R",
   "language": "R",
   "name": "conda-env-.conda-data730-r"
  },
  "language_info": {
   "codemirror_mode": "r",
   "file_extension": ".r",
   "mimetype": "text/x-r-source",
   "name": "R",
   "pygments_lexer": "r",
   "version": "4.3.3"
  }
 },
 "nbformat": 4,
 "nbformat_minor": 5
}
